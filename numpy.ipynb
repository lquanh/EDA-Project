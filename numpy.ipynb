{
 "cells": [
  {
   "cell_type": "code",
   "execution_count": 1,
   "id": "b899a858-acd5-4bd2-aba1-32db8c7d4974",
   "metadata": {},
   "outputs": [],
   "source": [
    "import numpy as np"
   ]
  },
  {
   "cell_type": "code",
   "execution_count": 18,
   "id": "3d35624e-37f9-4b53-accc-4c39630ca290",
   "metadata": {},
   "outputs": [
    {
     "name": "stdout",
     "output_type": "stream",
     "text": [
      "[[ 1  2  3  4]\n",
      " [ 5  6  7  8]\n",
      " [ 9 10 11 12]]\n"
     ]
    }
   ],
   "source": [
    "a = np.arange(1, 13)\n",
    "a.resize(3, 4)\n",
    "print(a)"
   ]
  },
  {
   "cell_type": "code",
   "execution_count": 22,
   "id": "fc0b05c7-f793-42b3-8f2d-5a085bcfe1ef",
   "metadata": {},
   "outputs": [
    {
     "name": "stdout",
     "output_type": "stream",
     "text": [
      "[5 6 7 8] [ 3  7 11]\n"
     ]
    }
   ],
   "source": [
    "row = a[1, :]\n",
    "col = a[:, 2]\n",
    "print(row, col)"
   ]
  },
  {
   "cell_type": "code",
   "execution_count": 32,
   "id": "f3c09a37-1264-4f8d-b150-905a75e2519b",
   "metadata": {},
   "outputs": [
    {
     "name": "stdout",
     "output_type": "stream",
     "text": [
      "[18  8  2]\n"
     ]
    }
   ],
   "source": [
    "b = np.random.randint(0, 21, 10)\n",
    "print(b[b % 2 == 0])"
   ]
  },
  {
   "cell_type": "code",
   "execution_count": 36,
   "id": "8d63279c-0e53-4ec0-9009-eb2fbc1a87e6",
   "metadata": {},
   "outputs": [
    {
     "name": "stdout",
     "output_type": "stream",
     "text": [
      "[30 27 22 25 30] [30 32 24 24 24]\n"
     ]
    }
   ],
   "source": [
    "b = np.random.randint(0, 10, (5, 5))\n",
    "print(np.sum(b, axis = 0), np.sum(b, axis = 1))"
   ]
  },
  {
   "cell_type": "code",
   "execution_count": 41,
   "id": "d2d0ae8f-b30a-499c-8220-ed01b1634071",
   "metadata": {},
   "outputs": [
    {
     "name": "stdout",
     "output_type": "stream",
     "text": [
      "[[1. 1. 1. 0. 0. 0.]\n",
      " [1. 1. 1. 0. 0. 0.]]\n",
      "[[1. 1. 1.]\n",
      " [1. 1. 1.]\n",
      " [0. 0. 0.]\n",
      " [0. 0. 0.]]\n"
     ]
    }
   ],
   "source": [
    "e = np.ones((2, 3))\n",
    "g = np.zeros((2, 3))\n",
    "c = np.hstack((e, g))\n",
    "print(c)\n",
    "d = np.vstack((e, g))\n",
    "print(d)"
   ]
  },
  {
   "cell_type": "code",
   "execution_count": 45,
   "id": "c3a51206-19c7-49af-87aa-265d119d0f1a",
   "metadata": {},
   "outputs": [
    {
     "name": "stdout",
     "output_type": "stream",
     "text": [
      "[array([[ 0,  1],\n",
      "       [ 4,  5],\n",
      "       [ 8,  9],\n",
      "       [12, 13]]), array([[ 2,  3],\n",
      "       [ 6,  7],\n",
      "       [10, 11],\n",
      "       [14, 15]])]\n"
     ]
    }
   ],
   "source": [
    "z = np.arange(16).reshape(4, 4)\n",
    "print(np.split(z, 2, axis = 1))"
   ]
  },
  {
   "cell_type": "code",
   "execution_count": 51,
   "id": "8a95d4e3-fca4-4281-88d6-d98744b60905",
   "metadata": {},
   "outputs": [
    {
     "name": "stdout",
     "output_type": "stream",
     "text": [
      "[[20 21 22]\n",
      " [33 34 35]]\n"
     ]
    }
   ],
   "source": [
    "A = np.arange(6).reshape(2,3)\n",
    "B = ([[20], [30]])\n",
    "print(A + B)"
   ]
  },
  {
   "cell_type": "code",
   "execution_count": 54,
   "id": "85b3a60d-ca8b-4979-a441-810aca5caa29",
   "metadata": {},
   "outputs": [
    {
     "name": "stdout",
     "output_type": "stream",
     "text": [
      "[[2 1]\n",
      " [1 3]]\n",
      "5.000000000000001\n",
      "[[ 0.6 -0.2]\n",
      " [-0.2  0.4]]\n",
      "EigResult(eigenvalues=array([1.38196601, 3.61803399]), eigenvectors=array([[-0.85065081, -0.52573111],\n",
      "       [ 0.52573111, -0.85065081]]))\n"
     ]
    }
   ],
   "source": [
    "m = np.array([[2, 1], [1, 3]])\n",
    "print(m)\n",
    "print(np.linalg.det(m))\n",
    "print(np.linalg.inv(m))\n",
    "print(np.linalg.eig(m))"
   ]
  },
  {
   "cell_type": "code",
   "execution_count": null,
   "id": "18029d21-eaf2-4715-9fa6-e272fe0aa669",
   "metadata": {},
   "outputs": [],
   "source": []
  }
 ],
 "metadata": {
  "kernelspec": {
   "display_name": "Python 3 (ipykernel)",
   "language": "python",
   "name": "python3"
  },
  "language_info": {
   "codemirror_mode": {
    "name": "ipython",
    "version": 3
   },
   "file_extension": ".py",
   "mimetype": "text/x-python",
   "name": "python",
   "nbconvert_exporter": "python",
   "pygments_lexer": "ipython3",
   "version": "3.11.13"
  }
 },
 "nbformat": 4,
 "nbformat_minor": 5
}
